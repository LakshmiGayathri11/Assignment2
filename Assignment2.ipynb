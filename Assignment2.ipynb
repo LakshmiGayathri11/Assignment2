{
  "nbformat": 4,
  "nbformat_minor": 0,
  "metadata": {
    "colab": {
      "name": "Assignment2.ipynb",
      "provenance": []
    },
    "kernelspec": {
      "name": "python3",
      "display_name": "Python 3"
    },
    "language_info": {
      "name": "python"
    }
  },
  "cells": [
    {
      "cell_type": "code",
      "metadata": {
        "colab": {
          "base_uri": "https://localhost:8080/",
          "height": 529
        },
        "id": "cWUTQqi8N5Ks",
        "outputId": "254126dd-5c6e-4608-8a6d-9357abb9257c"
      },
      "source": [
        "import matplotlib.pyplot as plt\n",
        "import numpy as np\n",
        "import math\n",
        "\n",
        "def line_icepts(n,c):\n",
        "  e1 = np.array([1,0]) \n",
        "  e2 = np.array([0,1]) \n",
        "  A = c*e1/(n@e1)\n",
        "  B = c*e2/(n@e2)\n",
        "  return A,B\n",
        "\n",
        "#Intersection of two lines\n",
        "def line_intersect(n1,c1,n2,c2):\n",
        "  N=np.vstack((n1,n2))\n",
        "  p = np.array([c1,c2]) \n",
        "  #Intersection\n",
        "  P=np.linalg.inv(N)@p\n",
        "#  P=np.linalg.inv(N.T)@p\n",
        "  return P\n",
        "\n",
        "n1 = np.array([2,3])\n",
        "n2 = np.array([2,-4]) \n",
        "n3 = np.array([-1,-1]) \n",
        "c =  np.array([11,-24,-3]) \n",
        "\n",
        "#Intercepts\n",
        "A1,B1 =  line_icepts(n1,c[0])\n",
        "A2,B2 =  line_icepts(n2,c[1])\n",
        "A3,B3 = line_icepts(n3,c[2])\n",
        "\n",
        "#Matrix Ranks\n",
        "N=np.vstack((n1,n2,n3))\n",
        "print(N)\n",
        "M =np.vstack((N.T, c)).T\n",
        "print(M)\n",
        "rank_N = np.linalg.matrix_rank(N)\n",
        "rank_M = np.linalg.matrix_rank(M)\n",
        "m,n = np.shape(N)\n",
        "print(m,n)\n",
        "print(rank_M, rank_N, M)\n",
        "\n",
        "#Checking for solution for two equations (2 3)x=11, (2 -4)=-24 and (-1 -1) x=-3\n",
        "if rank_N==rank_M:\n",
        "\t\tprint(\"System of Equations are consistent which means that the given lines are concurrent\")\n",
        "else:\n",
        "\tprint(\"No solution\")\n",
        "\n",
        "print(\"\\nThe solution will be the intersection point of any two lines represented by equations\")\n",
        "#line_intersect\n",
        "x=line_intersect(n1,c[0],n2,c[1]);\n",
        "print(x)\n",
        "x[0]=round(x[0])\n",
        "\n",
        "if ((n3[0]*x[0])+(n3[1]*x[1])== -3):\n",
        "        print(\"The intersection point is one of the solutions since the point satisifes the system of equations.\")\n",
        "head_length = 0.7\n",
        "\n",
        "dx1 = B2[0] - A2[0]\n",
        "dy1 = B2[1] - A2[1]\n",
        "dx2 = B1[0] - A1[0]\n",
        "dy2 = B1[1] - A1[1]\n",
        "dx3 = B3[0] - A3[0]\n",
        "dy3 = B3[1] - A3[1]\n",
        "\n",
        "vec_ab = [dx1,dy1]\n",
        "vec_cd = [dx2,dy2]\n",
        "vec_ef = [dx3,dy3]\n",
        "\n",
        "vec_ab_magnitude = math.sqrt(dx1**2+dy1**2)\n",
        "vec_cd_magnitude = math.sqrt(dx2**2+dy2**2)\n",
        "vec_ef_magnitude = math.sqrt(dx3**2+dy3**2)\n",
        "\n",
        "\n",
        "dx1 = dx1 / vec_ab_magnitude\n",
        "dy1 = dy1 / vec_ab_magnitude\n",
        "vec_ab_magnitude = vec_ab_magnitude - head_length\n",
        "dx2 = dx2 / vec_cd_magnitude\n",
        "dy2 = dy2 / vec_cd_magnitude\n",
        "vec_cd_magnitude = vec_cd_magnitude - head_length\n",
        "dx3 = dx3 / vec_ef_magnitude\n",
        "dy3 = dy3 / vec_ef_magnitude\n",
        "vec_ef_magnitude = vec_ef_magnitude - head_length\n",
        "ax = plt.axes()\n",
        "\n",
        "ax.arrow(A2[0], A2[1], vec_ab_magnitude*dx1, vec_ab_magnitude*dy1, head_width=0.5, head_length=0.7, fc='lightblue', ec='black', label='equation (2 -4)x=-24')\n",
        "ax.arrow(A1[0], A1[1], vec_ab_magnitude*dx2, vec_ab_magnitude*dy2, head_width=0.5, head_length=0.7, fc='lightblue', ec='blue',label='equation (2 3)x=-11')\n",
        "ax.arrow(A3[0], A3[1], vec_ab_magnitude*dx3, vec_ab_magnitude*dy3, head_width=0.5, head_length=0.7, fc='lightblue', ec='green',label='equation (-1 -1)x=-3')\n",
        "plt.scatter(A2[0], A2[1],color='black')\n",
        "plt.scatter(B2[0],B2[1],color='black')\n",
        "plt.scatter(A1[0],A1[1],color='blue')\n",
        "plt.scatter(B1[0],B1[1],color='blue')\n",
        "plt.scatter(A3[0],A3[1],color='green')\n",
        "plt.scatter(B3[0],B3[1],color='green')\n",
        "ax.annotate('equation (2 -4)x=-24', xy=(-8,2),  xycoords='data',\n",
        "            xytext=(0.6, 0.5), textcoords='axes fraction',\n",
        "            arrowprops=dict(facecolor='black', shrink=0.05),\n",
        "            horizontalalignment='right', verticalalignment='top',\n",
        "            )\n",
        "ax.annotate('equation (2 3)x=-11', xy=(4,1),  xycoords='data',\n",
        "            xytext=(0.9, 0.65), textcoords='axes fraction',\n",
        "            arrowprops=dict(facecolor='blue', shrink=0.05),\n",
        "            horizontalalignment='right', verticalalignment='top',\n",
        "            )\n",
        "ax.annotate('equation (-1 -1)x=-3', xy=(1,2),  xycoords='data',\n",
        "            xytext=(0.3,0.25), textcoords='axes fraction',\n",
        "            arrowprops=dict(facecolor='green', shrink=0.05),\n",
        "            horizontalalignment='right', verticalalignment='top',\n",
        "            )\n",
        "ax.annotate('Solution', xy=(-2,5),  xycoords='data',\n",
        "            xytext=(0.8,0.95), textcoords='axes fraction',\n",
        "            arrowprops=dict(facecolor='black', shrink=0.05),\n",
        "            horizontalalignment='right', verticalalignment='top',\n",
        "            )\n",
        "plt.grid()\n",
        "plt.xlim(-13,10)\n",
        "plt.ylim(-5,10)\n",
        "plt.show()\n",
        "#plt.close()"
      ],
      "execution_count": 17,
      "outputs": [
        {
          "output_type": "stream",
          "name": "stdout",
          "text": [
            "[[ 2  3]\n",
            " [ 2 -4]\n",
            " [-1 -1]]\n",
            "[[  2   3  11]\n",
            " [  2  -4 -24]\n",
            " [ -1  -1  -3]]\n",
            "3 2\n",
            "2 2 [[  2   3  11]\n",
            " [  2  -4 -24]\n",
            " [ -1  -1  -3]]\n",
            "System of Equations are consistent which means that the given lines are concurrent\n",
            "\n",
            "The solution will be the intersection point of any two lines represented by equations\n",
            "[-2.  5.]\n",
            "The intersection point is one of the solutions since the point satisifes the system of equations.\n"
          ]
        },
        {
          "output_type": "display_data",
          "data": {
            "image/png": "[encoded data removed]",
            "text/plain": [
              "<Figure size 432x288 with 1 Axes>"
            ]
          },
          "metadata": {
            "needs_background": "light"
          }
        }
      ]
    },
    {
      "cell_type": "markdown",
      "metadata": {
        "id": "XzA-siz7PZrl"
      },
      "source": [
        ""
      ]
    }
  ]
}